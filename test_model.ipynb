{
 "cells": [
  {
   "cell_type": "markdown",
   "metadata": {},
   "source": [
    "## Reading in trained model"
   ]
  },
  {
   "cell_type": "code",
   "execution_count": 3,
   "metadata": {},
   "outputs": [],
   "source": [
    "import spacy"
   ]
  },
  {
   "cell_type": "code",
   "execution_count": 37,
   "metadata": {},
   "outputs": [],
   "source": [
    "nlp = spacy.load(\"./output/model-best\")\n",
    "\n",
    "english = spacy.load(\"en_core_web_sm\")"
   ]
  },
  {
   "cell_type": "code",
   "execution_count": 68,
   "metadata": {},
   "outputs": [],
   "source": [
    "# 0 0 -> good\n",
    "# 1 0 -> neutral\n",
    "# 0 1 -> bad\n",
    "# 1 1 -> blocker\n",
    "\n",
    "def predict(d):\n",
    "    a = d['A']\n",
    "    b = d['B']\n",
    "    \n",
    "    if (a<0.5) and (b<0.5):\n",
    "        return \"good\"\n",
    "    elif (a>=0.5) and (b<0.5):\n",
    "        return \"neutral\"\n",
    "    elif (a<0.5) and (b>=0.5):\n",
    "        return \"bad\"\n",
    "    elif (a>=0.5) and (b>=0.5):\n",
    "        return \"blocker\"\n",
    "\n",
    "def test(text):\n",
    "    doc = nlp(text)\n",
    "    print(doc)\n",
    "    print()\n",
    "    print(predict(doc.cats))\n",
    "    \n",
    "def test_doc(doc):\n",
    "    print(doc)\n",
    "    print()\n",
    "    print(predict(doc.cats))"
   ]
  },
  {
   "cell_type": "markdown",
   "metadata": {},
   "source": [
    "## Testcases"
   ]
  },
  {
   "cell_type": "code",
   "execution_count": 69,
   "metadata": {},
   "outputs": [
    {
     "name": "stdout",
     "output_type": "stream",
     "text": [
      "Call recordings are saved when you call our reservation centers or other guest services phone numbers.\n",
      "\n",
      "good\n"
     ]
    }
   ],
   "source": [
    "# Model makes a mistake here\n",
    "test(\"Call recordings are saved when you call our reservation centers or other guest services phone numbers.\")"
   ]
  },
  {
   "cell_type": "code",
   "execution_count": 70,
   "metadata": {},
   "outputs": [
    {
     "name": "stdout",
     "output_type": "stream",
     "text": [
      " Don’t remove, obscure, or alter any of our branding, logos, or legal notices.\n",
      "\n",
      "blocker\n"
     ]
    }
   ],
   "source": [
    "test(\" Don’t remove, obscure, or alter any of our branding, logos, or legal notices.\")"
   ]
  },
  {
   "cell_type": "code",
   "execution_count": 71,
   "metadata": {},
   "outputs": [
    {
     "name": "stdout",
     "output_type": "stream",
     "text": [
      "You may use the Services only if you agree to form a binding contract with Twitter and are not a person barred from receiving services under the laws of the applicable jurisdiction. \n",
      "\n",
      "neutral\n"
     ]
    }
   ],
   "source": [
    "test(\"You may use the Services only if you agree to form a binding contract with Twitter and are not a person barred from receiving services under the laws of the applicable jurisdiction. \")"
   ]
  },
  {
   "cell_type": "code",
   "execution_count": 72,
   "metadata": {},
   "outputs": [
    {
     "name": "stdout",
     "output_type": "stream",
     "text": [
      "We reserve the right to remove Content that violates the User Agreement, including for example, copyright or trademark violations or other intellectual property misappropriation, impersonation, unlawful conduct, or harassment\n",
      "\n",
      "neutral\n"
     ]
    }
   ],
   "source": [
    "test(\"We reserve the right to remove Content that violates the User Agreement, including for example, copyright or trademark violations or other intellectual property misappropriation, impersonation, unlawful conduct, or harassment\")"
   ]
  },
  {
   "cell_type": "code",
   "execution_count": 73,
   "metadata": {},
   "outputs": [
    {
     "name": "stdout",
     "output_type": "stream",
     "text": [
      "We may also remove or refuse to distribute any Content on the Services, limit distribution or visibility of any Content on the service, suspend or terminate users, and reclaim usernames without liability to you.\n",
      "\n",
      "bad\n"
     ]
    }
   ],
   "source": [
    "test(\"We may also remove or refuse to distribute any Content on the Services, limit distribution or visibility of any Content on the service, suspend or terminate users, and reclaim usernames without liability to you.\")"
   ]
  },
  {
   "cell_type": "code",
   "execution_count": 74,
   "metadata": {},
   "outputs": [
    {
     "name": "stdout",
     "output_type": "stream",
     "text": [
      "Twitter gives you a personal, worldwide, royalty-free, non-assignable and non-exclusive license to use the software provided to you as part of the Services.\n",
      "\n",
      "good\n"
     ]
    }
   ],
   "source": [
    "test(\"Twitter gives you a personal, worldwide, royalty-free, non-assignable and non-exclusive license to use the software provided to you as part of the Services.\")"
   ]
  },
  {
   "cell_type": "markdown",
   "metadata": {},
   "source": [
    "## Handling large text"
   ]
  },
  {
   "cell_type": "code",
   "execution_count": 75,
   "metadata": {},
   "outputs": [],
   "source": [
    "doc1 = english(\"Twitter gives you a personal, worldwide, royalty-free, non-assignable and non-exclusive license to use the software provided to you as part of the Services.We may also remove or refuse to distribute any Content on the Services, limit distribution or visibility of any Content on the service, suspend or terminate users, and reclaim usernames without liability to you.\")"
   ]
  },
  {
   "cell_type": "code",
   "execution_count": 76,
   "metadata": {},
   "outputs": [],
   "source": [
    "l = [s.text for s in doc1.sents]\n"
   ]
  },
  {
   "cell_type": "code",
   "execution_count": 78,
   "metadata": {},
   "outputs": [
    {
     "name": "stdout",
     "output_type": "stream",
     "text": [
      "Twitter gives you a personal, worldwide, royalty-free, non-assignable and non-exclusive license to use the software provided to you as part of the Services.\n",
      "\n",
      "good\n",
      "\n",
      "We may also remove or refuse to distribute any Content on the Services, limit distribution or visibility of any Content on the service, suspend or terminate users, and reclaim usernames without liability to you.\n",
      "\n",
      "bad\n",
      "\n"
     ]
    }
   ],
   "source": [
    "for doc in nlp.pipe(l):\n",
    "    test_doc(doc)\n",
    "    print()"
   ]
  },
  {
   "cell_type": "code",
   "execution_count": null,
   "metadata": {},
   "outputs": [],
   "source": []
  }
 ],
 "metadata": {
  "kernelspec": {
   "display_name": "Python 3",
   "language": "python",
   "name": "python3"
  },
  "language_info": {
   "codemirror_mode": {
    "name": "ipython",
    "version": 3
   },
   "file_extension": ".py",
   "mimetype": "text/x-python",
   "name": "python",
   "nbconvert_exporter": "python",
   "pygments_lexer": "ipython3",
   "version": "3.8.5"
  }
 },
 "nbformat": 4,
 "nbformat_minor": 4
}
