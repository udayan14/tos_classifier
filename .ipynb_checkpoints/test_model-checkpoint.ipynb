{
 "cells": [
  {
   "cell_type": "markdown",
   "metadata": {},
   "source": [
    "## Reading in trained model"
   ]
  },
  {
   "cell_type": "code",
   "execution_count": 3,
   "metadata": {},
   "outputs": [],
   "source": [
    "import spacy"
   ]
  },
  {
   "cell_type": "code",
   "execution_count": 4,
   "metadata": {},
   "outputs": [],
   "source": [
    "nlp = spacy.load(\"./output/model-best\")"
   ]
  },
  {
   "cell_type": "code",
   "execution_count": 6,
   "metadata": {},
   "outputs": [],
   "source": [
    "# 0 0 -> good\n",
    "# 1 0 -> neutral\n",
    "# 0 1 -> bad\n",
    "# 1 1 -> blocker\n",
    "\n",
    "def predict(d):\n",
    "    a = d['A']\n",
    "    b = d['B']\n",
    "    \n",
    "    if (a<0.5) and (b<0.5):\n",
    "        return \"good\"\n",
    "    elif (a>=0.5) and (b<0.5):\n",
    "        return \"neutral\"\n",
    "    elif (a<0.5) and (b>=0.5):\n",
    "        return \"bad\"\n",
    "    elif (a>=0.5) and (b>=0.5):\n",
    "        return \"blocker\"\n",
    "\n",
    "def test(text):\n",
    "    doc = nlp(text)\n",
    "    print(doc.cats, predict(doc.cats))"
   ]
  },
  {
   "cell_type": "markdown",
   "metadata": {},
   "source": [
    "## Testcases"
   ]
  },
  {
   "cell_type": "code",
   "execution_count": 7,
   "metadata": {},
   "outputs": [
    {
     "name": "stdout",
     "output_type": "stream",
     "text": [
      "{'A': 0.45376718044281006, 'B': 0.4409309923648834} good\n"
     ]
    }
   ],
   "source": [
    "# Model makes a mistake here\n",
    "test(\"Call recordings are saved when you call our reservation centers or other guest services phone numbers.\")"
   ]
  },
  {
   "cell_type": "code",
   "execution_count": 8,
   "metadata": {},
   "outputs": [
    {
     "name": "stdout",
     "output_type": "stream",
     "text": [
      "{'A': 0.5174265503883362, 'B': 0.5276713371276855} blocker\n"
     ]
    }
   ],
   "source": [
    "test(\" Don’t remove, obscure, or alter any of our branding, logos, or legal notices.\")"
   ]
  },
  {
   "cell_type": "code",
   "execution_count": 9,
   "metadata": {},
   "outputs": [
    {
     "name": "stdout",
     "output_type": "stream",
     "text": [
      "{'A': 0.6334393620491028, 'B': 0.2770835757255554} neutral\n"
     ]
    }
   ],
   "source": [
    "test(\"You may use the Services only if you agree to form a binding contract with Twitter and are not a person barred from receiving services under the laws of the applicable jurisdiction. \")"
   ]
  },
  {
   "cell_type": "code",
   "execution_count": 10,
   "metadata": {},
   "outputs": [
    {
     "name": "stdout",
     "output_type": "stream",
     "text": [
      "{'A': 0.7338231205940247, 'B': 0.4710274040699005} neutral\n"
     ]
    }
   ],
   "source": [
    "test(\"We reserve the right to remove Content that violates the User Agreement, including for example, copyright or trademark violations or other intellectual property misappropriation, impersonation, unlawful conduct, or harassment\")"
   ]
  },
  {
   "cell_type": "code",
   "execution_count": 11,
   "metadata": {},
   "outputs": [
    {
     "name": "stdout",
     "output_type": "stream",
     "text": [
      "{'A': 0.3796892464160919, 'B': 0.7764506936073303} bad\n"
     ]
    }
   ],
   "source": [
    "test(\"We may also remove or refuse to distribute any Content on the Services, limit distribution or visibility of any Content on the service, suspend or terminate users, and reclaim usernames without liability to you.\")"
   ]
  },
  {
   "cell_type": "code",
   "execution_count": 12,
   "metadata": {},
   "outputs": [
    {
     "name": "stdout",
     "output_type": "stream",
     "text": [
      "{'A': 0.19372260570526123, 'B': 0.4837988018989563} good\n"
     ]
    }
   ],
   "source": [
    "test(\"Twitter gives you a personal, worldwide, royalty-free, non-assignable and non-exclusive license to use the software provided to you as part of the Services.\")"
   ]
  },
  {
   "cell_type": "code",
   "execution_count": null,
   "metadata": {},
   "outputs": [],
   "source": []
  }
 ],
 "metadata": {
  "kernelspec": {
   "display_name": "Python 3",
   "language": "python",
   "name": "python3"
  },
  "language_info": {
   "codemirror_mode": {
    "name": "ipython",
    "version": 3
   },
   "file_extension": ".py",
   "mimetype": "text/x-python",
   "name": "python",
   "nbconvert_exporter": "python",
   "pygments_lexer": "ipython3",
   "version": "3.8.5"
  }
 },
 "nbformat": 4,
 "nbformat_minor": 4
}
